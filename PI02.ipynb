{
  "nbformat": 4,
  "nbformat_minor": 0,
  "metadata": {
    "colab": {
      "provenance": []
    },
    "kernelspec": {
      "name": "python3",
      "display_name": "Python 3"
    },
    "language_info": {
      "name": "python"
    }
  },
  "cells": [
    {
      "cell_type": "code",
      "source": [
        "pip install yfinance --upgrade"
      ],
      "metadata": {
        "colab": {
          "base_uri": "https://localhost:8080/"
        },
        "id": "KEeMfIjlH4bZ",
        "outputId": "67568ead-6285-447c-9720-7edff0c81358"
      },
      "execution_count": null,
      "outputs": [
        {
          "output_type": "stream",
          "name": "stdout",
          "text": [
            "Looking in indexes: https://pypi.org/simple, https://us-python.pkg.dev/colab-wheels/public/simple/\n",
            "Collecting yfinance\n",
            "  Downloading yfinance-0.2.12-py2.py3-none-any.whl (59 kB)\n",
            "\u001b[2K     \u001b[90m━━━━━━━━━━━━━━━━━━━━━━━━━━━━━━━━━━━━━━━━\u001b[0m \u001b[32m59.2/59.2 KB\u001b[0m \u001b[31m1.7 MB/s\u001b[0m eta \u001b[36m0:00:00\u001b[0m\n",
            "\u001b[?25hCollecting html5lib>=1.1\n",
            "  Downloading html5lib-1.1-py2.py3-none-any.whl (112 kB)\n",
            "\u001b[2K     \u001b[90m━━━━━━━━━━━━━━━━━━━━━━━━━━━━━━━━━━━━━━━\u001b[0m \u001b[32m112.2/112.2 KB\u001b[0m \u001b[31m4.9 MB/s\u001b[0m eta \u001b[36m0:00:00\u001b[0m\n",
            "\u001b[?25hCollecting cryptography>=3.3.2\n",
            "  Downloading cryptography-39.0.1-cp36-abi3-manylinux_2_28_x86_64.whl (4.2 MB)\n",
            "\u001b[2K     \u001b[90m━━━━━━━━━━━━━━━━━━━━━━━━━━━━━━━━━━━━━━━━\u001b[0m \u001b[32m4.2/4.2 MB\u001b[0m \u001b[31m40.3 MB/s\u001b[0m eta \u001b[36m0:00:00\u001b[0m\n",
            "\u001b[?25hRequirement already satisfied: appdirs>=1.4.4 in /usr/local/lib/python3.8/dist-packages (from yfinance) (1.4.4)\n",
            "Requirement already satisfied: multitasking>=0.0.7 in /usr/local/lib/python3.8/dist-packages (from yfinance) (0.0.11)\n",
            "Requirement already satisfied: pytz>=2022.5 in /usr/local/lib/python3.8/dist-packages (from yfinance) (2022.7.1)\n",
            "Collecting requests>=2.26\n",
            "  Downloading requests-2.28.2-py3-none-any.whl (62 kB)\n",
            "\u001b[2K     \u001b[90m━━━━━━━━━━━━━━━━━━━━━━━━━━━━━━━━━━━━━━━━\u001b[0m \u001b[32m62.8/62.8 KB\u001b[0m \u001b[31m3.6 MB/s\u001b[0m eta \u001b[36m0:00:00\u001b[0m\n",
            "\u001b[?25hRequirement already satisfied: lxml>=4.9.1 in /usr/local/lib/python3.8/dist-packages (from yfinance) (4.9.2)\n",
            "Collecting frozendict>=2.3.4\n",
            "  Downloading frozendict-2.3.5-cp38-cp38-manylinux_2_17_x86_64.manylinux2014_x86_64.whl (111 kB)\n",
            "\u001b[2K     \u001b[90m━━━━━━━━━━━━━━━━━━━━━━━━━━━━━━━━━━━━━━━\u001b[0m \u001b[32m111.2/111.2 KB\u001b[0m \u001b[31m8.1 MB/s\u001b[0m eta \u001b[36m0:00:00\u001b[0m\n",
            "\u001b[?25hRequirement already satisfied: numpy>=1.16.5 in /usr/local/lib/python3.8/dist-packages (from yfinance) (1.22.4)\n",
            "Requirement already satisfied: pandas>=1.3.0 in /usr/local/lib/python3.8/dist-packages (from yfinance) (1.3.5)\n",
            "Collecting beautifulsoup4>=4.11.1\n",
            "  Downloading beautifulsoup4-4.11.2-py3-none-any.whl (129 kB)\n",
            "\u001b[2K     \u001b[90m━━━━━━━━━━━━━━━━━━━━━━━━━━━━━━━━━━━━━━━\u001b[0m \u001b[32m129.4/129.4 KB\u001b[0m \u001b[31m9.4 MB/s\u001b[0m eta \u001b[36m0:00:00\u001b[0m\n",
            "\u001b[?25hCollecting soupsieve>1.2\n",
            "  Downloading soupsieve-2.4-py3-none-any.whl (37 kB)\n",
            "Requirement already satisfied: cffi>=1.12 in /usr/local/lib/python3.8/dist-packages (from cryptography>=3.3.2->yfinance) (1.15.1)\n",
            "Requirement already satisfied: six>=1.9 in /usr/local/lib/python3.8/dist-packages (from html5lib>=1.1->yfinance) (1.15.0)\n",
            "Requirement already satisfied: webencodings in /usr/local/lib/python3.8/dist-packages (from html5lib>=1.1->yfinance) (0.5.1)\n",
            "Requirement already satisfied: python-dateutil>=2.7.3 in /usr/local/lib/python3.8/dist-packages (from pandas>=1.3.0->yfinance) (2.8.2)\n",
            "Requirement already satisfied: idna<4,>=2.5 in /usr/local/lib/python3.8/dist-packages (from requests>=2.26->yfinance) (2.10)\n",
            "Requirement already satisfied: charset-normalizer<4,>=2 in /usr/local/lib/python3.8/dist-packages (from requests>=2.26->yfinance) (3.0.1)\n",
            "Requirement already satisfied: certifi>=2017.4.17 in /usr/local/lib/python3.8/dist-packages (from requests>=2.26->yfinance) (2022.12.7)\n",
            "Requirement already satisfied: urllib3<1.27,>=1.21.1 in /usr/local/lib/python3.8/dist-packages (from requests>=2.26->yfinance) (1.24.3)\n",
            "Requirement already satisfied: pycparser in /usr/local/lib/python3.8/dist-packages (from cffi>=1.12->cryptography>=3.3.2->yfinance) (2.21)\n",
            "Installing collected packages: soupsieve, requests, html5lib, frozendict, cryptography, beautifulsoup4, yfinance\n",
            "  Attempting uninstall: requests\n",
            "    Found existing installation: requests 2.25.1\n",
            "    Uninstalling requests-2.25.1:\n",
            "      Successfully uninstalled requests-2.25.1\n",
            "  Attempting uninstall: html5lib\n",
            "    Found existing installation: html5lib 1.0.1\n",
            "    Uninstalling html5lib-1.0.1:\n",
            "      Successfully uninstalled html5lib-1.0.1\n",
            "  Attempting uninstall: beautifulsoup4\n",
            "    Found existing installation: beautifulsoup4 4.6.3\n",
            "    Uninstalling beautifulsoup4-4.6.3:\n",
            "      Successfully uninstalled beautifulsoup4-4.6.3\n",
            "Successfully installed beautifulsoup4-4.11.2 cryptography-39.0.1 frozendict-2.3.5 html5lib-1.1 requests-2.28.2 soupsieve-2.4 yfinance-0.2.12\n"
          ]
        }
      ]
    },
    {
      "cell_type": "code",
      "source": [
        "from google.colab import drive\n",
        "drive.mount('/content/drive')"
      ],
      "metadata": {
        "colab": {
          "base_uri": "https://localhost:8080/"
        },
        "id": "T-Gz4g79knbQ",
        "outputId": "5e0273b8-373c-4d00-c870-49e98091f4cd"
      },
      "execution_count": null,
      "outputs": [
        {
          "output_type": "stream",
          "name": "stdout",
          "text": [
            "Mounted at /content/drive\n"
          ]
        }
      ]
    },
    {
      "cell_type": "code",
      "execution_count": null,
      "metadata": {
        "id": "YmiAq-b1Ec39"
      },
      "outputs": [],
      "source": [
        "import numpy as np\n",
        "import pandas as pd"
      ]
    },
    {
      "cell_type": "code",
      "source": [
        "import yfinance as yf"
      ],
      "metadata": {
        "id": "JPWegO76I9fh"
      },
      "execution_count": null,
      "outputs": []
    },
    {
      "cell_type": "code",
      "source": [
        "#descargar datos del sp500 desde yahoo\n",
        "sp = yf.Ticker(\"^GSPC\")"
      ],
      "metadata": {
        "id": "TqM3UalsImgn"
      },
      "execution_count": null,
      "outputs": []
    },
    {
      "cell_type": "code",
      "source": [
        "#descargar datos del sp500 desde yahoo\n",
        "sp500 = yf.download(\"^GSPC\",start=\"2000-01-01\")"
      ],
      "metadata": {
        "colab": {
          "base_uri": "https://localhost:8080/"
        },
        "id": "afqxkvebkZAQ",
        "outputId": "6a05258d-992e-4a74-d4ac-e314322d9d08"
      },
      "execution_count": null,
      "outputs": [
        {
          "output_type": "stream",
          "name": "stdout",
          "text": [
            "\r[*********************100%***********************]  1 of 1 completed\n"
          ]
        }
      ]
    },
    {
      "cell_type": "code",
      "source": [
        "# Obtener el histórico de precios desde el 1 de enero de 2000\n",
        "historico = sp.history(start=\"2000-01-01\")\n",
        "\n"
      ],
      "metadata": {
        "id": "-FaEEWJQUWSH"
      },
      "execution_count": null,
      "outputs": []
    },
    {
      "cell_type": "code",
      "source": [
        "#Convertirlo en un dataframe\n",
        "sp500 = pd.DataFrame(s_p)"
      ],
      "metadata": {
        "id": "0mw6o0xamZ1o"
      },
      "execution_count": null,
      "outputs": []
    },
    {
      "cell_type": "code",
      "source": [
        "# Guardar DataFrame en archivo CSV\n",
        "sp500.to_csv('s_p_500.csv', index=False)"
      ],
      "metadata": {
        "id": "P_iLExvtk_QZ"
      },
      "execution_count": null,
      "outputs": []
    },
    {
      "cell_type": "code",
      "source": [
        "# Descargar datos del sector tecnologia\n",
        "tickers = [\"XLK\"]\n",
        "tecnologia = yf.download(tickers, start=\"2000-01-01\", end=\"2023-02-23\")"
      ],
      "metadata": {
        "colab": {
          "base_uri": "https://localhost:8080/"
        },
        "id": "3_XxPuvwFlaq",
        "outputId": "d9538394-3152-46a9-ebde-d7310cfec790"
      },
      "execution_count": null,
      "outputs": [
        {
          "output_type": "stream",
          "name": "stdout",
          "text": [
            "\r[*********************100%***********************]  1 of 1 completed\n"
          ]
        }
      ]
    },
    {
      "cell_type": "code",
      "source": [
        "# Convertir a un dataframe de pandas\n",
        "tecnologia = pd.DataFrame(tecnologia)"
      ],
      "metadata": {
        "id": "wEHxEQgZF3-H"
      },
      "execution_count": null,
      "outputs": []
    },
    {
      "cell_type": "code",
      "source": [
        "#agregar columna date\n",
        "tecnologia['Date'] = tecnologia.index.date"
      ],
      "metadata": {
        "id": "9Y62AQtsGyX1"
      },
      "execution_count": null,
      "outputs": []
    },
    {
      "cell_type": "code",
      "source": [
        "#armar la columna daily retunr \n",
        "tecnologia['Daily Return'] = tecnologia['Adj Close'].pct_change()"
      ],
      "metadata": {
        "id": "hTBKJfnvHYnd"
      },
      "execution_count": null,
      "outputs": []
    },
    {
      "cell_type": "code",
      "source": [
        "tecnologia"
      ],
      "metadata": {
        "colab": {
          "base_uri": "https://localhost:8080/",
          "height": 423
        },
        "id": "7c_WCMerHefs",
        "outputId": "1375fe2a-c2a9-478a-dbf0-b1d7977318f3"
      },
      "execution_count": null,
      "outputs": [
        {
          "output_type": "execute_result",
          "data": {
            "text/plain": [
              "            Open        High         Low       Close   Adj Close   Volume  \\\n",
              "0      54.000000   54.750000   52.312500   52.625000   40.067898   545500   \n",
              "1      51.750000   53.062500   50.125000   51.843750   39.473080  1906000   \n",
              "2      51.250000   52.093750   49.625000   50.125000   38.164452  1670000   \n",
              "3      49.625000   51.000000   49.125000   51.000000   38.830654   686000   \n",
              "4      53.000000   53.437500   52.062500   52.937500   40.305851  1020500   \n",
              "...          ...         ...         ...         ...         ...      ...   \n",
              "5816  142.550003  144.100006  142.210007  144.089996  144.089996  5246200   \n",
              "5817  142.000000  143.610001  141.479996  141.589996  141.589996  6500600   \n",
              "5818  140.580002  140.740005  138.600006  139.820007  139.820007  5301900   \n",
              "5819  137.949997  138.779999  136.380005  136.500000  136.500000  6138900   \n",
              "5820  136.779999  137.399994  135.649994  136.300003  136.300003  7169200   \n",
              "\n",
              "            Date  Daily Return  \n",
              "0     2000-01-04     -0.050733  \n",
              "1     2000-01-05     -0.014845  \n",
              "2     2000-01-06     -0.033152  \n",
              "3     2000-01-07      0.017456  \n",
              "4     2000-01-10      0.037991  \n",
              "...          ...           ...  \n",
              "5816  2023-02-15      0.004672  \n",
              "5817  2023-02-16     -0.017350  \n",
              "5818  2023-02-17     -0.012501  \n",
              "5819  2023-02-21     -0.023745  \n",
              "5820  2023-02-22     -0.001465  \n",
              "\n",
              "[5821 rows x 8 columns]"
            ],
            "text/html": [
              "\n",
              "  <div id=\"df-10992f8e-4fa9-40fd-b4b9-3a15f0268793\">\n",
              "    <div class=\"colab-df-container\">\n",
              "      <div>\n",
              "<style scoped>\n",
              "    .dataframe tbody tr th:only-of-type {\n",
              "        vertical-align: middle;\n",
              "    }\n",
              "\n",
              "    .dataframe tbody tr th {\n",
              "        vertical-align: top;\n",
              "    }\n",
              "\n",
              "    .dataframe thead th {\n",
              "        text-align: right;\n",
              "    }\n",
              "</style>\n",
              "<table border=\"1\" class=\"dataframe\">\n",
              "  <thead>\n",
              "    <tr style=\"text-align: right;\">\n",
              "      <th></th>\n",
              "      <th>Open</th>\n",
              "      <th>High</th>\n",
              "      <th>Low</th>\n",
              "      <th>Close</th>\n",
              "      <th>Adj Close</th>\n",
              "      <th>Volume</th>\n",
              "      <th>Date</th>\n",
              "      <th>Daily Return</th>\n",
              "    </tr>\n",
              "  </thead>\n",
              "  <tbody>\n",
              "    <tr>\n",
              "      <th>0</th>\n",
              "      <td>54.000000</td>\n",
              "      <td>54.750000</td>\n",
              "      <td>52.312500</td>\n",
              "      <td>52.625000</td>\n",
              "      <td>40.067898</td>\n",
              "      <td>545500</td>\n",
              "      <td>2000-01-04</td>\n",
              "      <td>-0.050733</td>\n",
              "    </tr>\n",
              "    <tr>\n",
              "      <th>1</th>\n",
              "      <td>51.750000</td>\n",
              "      <td>53.062500</td>\n",
              "      <td>50.125000</td>\n",
              "      <td>51.843750</td>\n",
              "      <td>39.473080</td>\n",
              "      <td>1906000</td>\n",
              "      <td>2000-01-05</td>\n",
              "      <td>-0.014845</td>\n",
              "    </tr>\n",
              "    <tr>\n",
              "      <th>2</th>\n",
              "      <td>51.250000</td>\n",
              "      <td>52.093750</td>\n",
              "      <td>49.625000</td>\n",
              "      <td>50.125000</td>\n",
              "      <td>38.164452</td>\n",
              "      <td>1670000</td>\n",
              "      <td>2000-01-06</td>\n",
              "      <td>-0.033152</td>\n",
              "    </tr>\n",
              "    <tr>\n",
              "      <th>3</th>\n",
              "      <td>49.625000</td>\n",
              "      <td>51.000000</td>\n",
              "      <td>49.125000</td>\n",
              "      <td>51.000000</td>\n",
              "      <td>38.830654</td>\n",
              "      <td>686000</td>\n",
              "      <td>2000-01-07</td>\n",
              "      <td>0.017456</td>\n",
              "    </tr>\n",
              "    <tr>\n",
              "      <th>4</th>\n",
              "      <td>53.000000</td>\n",
              "      <td>53.437500</td>\n",
              "      <td>52.062500</td>\n",
              "      <td>52.937500</td>\n",
              "      <td>40.305851</td>\n",
              "      <td>1020500</td>\n",
              "      <td>2000-01-10</td>\n",
              "      <td>0.037991</td>\n",
              "    </tr>\n",
              "    <tr>\n",
              "      <th>...</th>\n",
              "      <td>...</td>\n",
              "      <td>...</td>\n",
              "      <td>...</td>\n",
              "      <td>...</td>\n",
              "      <td>...</td>\n",
              "      <td>...</td>\n",
              "      <td>...</td>\n",
              "      <td>...</td>\n",
              "    </tr>\n",
              "    <tr>\n",
              "      <th>5816</th>\n",
              "      <td>142.550003</td>\n",
              "      <td>144.100006</td>\n",
              "      <td>142.210007</td>\n",
              "      <td>144.089996</td>\n",
              "      <td>144.089996</td>\n",
              "      <td>5246200</td>\n",
              "      <td>2023-02-15</td>\n",
              "      <td>0.004672</td>\n",
              "    </tr>\n",
              "    <tr>\n",
              "      <th>5817</th>\n",
              "      <td>142.000000</td>\n",
              "      <td>143.610001</td>\n",
              "      <td>141.479996</td>\n",
              "      <td>141.589996</td>\n",
              "      <td>141.589996</td>\n",
              "      <td>6500600</td>\n",
              "      <td>2023-02-16</td>\n",
              "      <td>-0.017350</td>\n",
              "    </tr>\n",
              "    <tr>\n",
              "      <th>5818</th>\n",
              "      <td>140.580002</td>\n",
              "      <td>140.740005</td>\n",
              "      <td>138.600006</td>\n",
              "      <td>139.820007</td>\n",
              "      <td>139.820007</td>\n",
              "      <td>5301900</td>\n",
              "      <td>2023-02-17</td>\n",
              "      <td>-0.012501</td>\n",
              "    </tr>\n",
              "    <tr>\n",
              "      <th>5819</th>\n",
              "      <td>137.949997</td>\n",
              "      <td>138.779999</td>\n",
              "      <td>136.380005</td>\n",
              "      <td>136.500000</td>\n",
              "      <td>136.500000</td>\n",
              "      <td>6138900</td>\n",
              "      <td>2023-02-21</td>\n",
              "      <td>-0.023745</td>\n",
              "    </tr>\n",
              "    <tr>\n",
              "      <th>5820</th>\n",
              "      <td>136.779999</td>\n",
              "      <td>137.399994</td>\n",
              "      <td>135.649994</td>\n",
              "      <td>136.300003</td>\n",
              "      <td>136.300003</td>\n",
              "      <td>7169200</td>\n",
              "      <td>2023-02-22</td>\n",
              "      <td>-0.001465</td>\n",
              "    </tr>\n",
              "  </tbody>\n",
              "</table>\n",
              "<p>5821 rows × 8 columns</p>\n",
              "</div>\n",
              "      <button class=\"colab-df-convert\" onclick=\"convertToInteractive('df-10992f8e-4fa9-40fd-b4b9-3a15f0268793')\"\n",
              "              title=\"Convert this dataframe to an interactive table.\"\n",
              "              style=\"display:none;\">\n",
              "        \n",
              "  <svg xmlns=\"http://www.w3.org/2000/svg\" height=\"24px\"viewBox=\"0 0 24 24\"\n",
              "       width=\"24px\">\n",
              "    <path d=\"M0 0h24v24H0V0z\" fill=\"none\"/>\n",
              "    <path d=\"M18.56 5.44l.94 2.06.94-2.06 2.06-.94-2.06-.94-.94-2.06-.94 2.06-2.06.94zm-11 1L8.5 8.5l.94-2.06 2.06-.94-2.06-.94L8.5 2.5l-.94 2.06-2.06.94zm10 10l.94 2.06.94-2.06 2.06-.94-2.06-.94-.94-2.06-.94 2.06-2.06.94z\"/><path d=\"M17.41 7.96l-1.37-1.37c-.4-.4-.92-.59-1.43-.59-.52 0-1.04.2-1.43.59L10.3 9.45l-7.72 7.72c-.78.78-.78 2.05 0 2.83L4 21.41c.39.39.9.59 1.41.59.51 0 1.02-.2 1.41-.59l7.78-7.78 2.81-2.81c.8-.78.8-2.07 0-2.86zM5.41 20L4 18.59l7.72-7.72 1.47 1.35L5.41 20z\"/>\n",
              "  </svg>\n",
              "      </button>\n",
              "      \n",
              "  <style>\n",
              "    .colab-df-container {\n",
              "      display:flex;\n",
              "      flex-wrap:wrap;\n",
              "      gap: 12px;\n",
              "    }\n",
              "\n",
              "    .colab-df-convert {\n",
              "      background-color: #E8F0FE;\n",
              "      border: none;\n",
              "      border-radius: 50%;\n",
              "      cursor: pointer;\n",
              "      display: none;\n",
              "      fill: #1967D2;\n",
              "      height: 32px;\n",
              "      padding: 0 0 0 0;\n",
              "      width: 32px;\n",
              "    }\n",
              "\n",
              "    .colab-df-convert:hover {\n",
              "      background-color: #E2EBFA;\n",
              "      box-shadow: 0px 1px 2px rgba(60, 64, 67, 0.3), 0px 1px 3px 1px rgba(60, 64, 67, 0.15);\n",
              "      fill: #174EA6;\n",
              "    }\n",
              "\n",
              "    [theme=dark] .colab-df-convert {\n",
              "      background-color: #3B4455;\n",
              "      fill: #D2E3FC;\n",
              "    }\n",
              "\n",
              "    [theme=dark] .colab-df-convert:hover {\n",
              "      background-color: #434B5C;\n",
              "      box-shadow: 0px 1px 3px 1px rgba(0, 0, 0, 0.15);\n",
              "      filter: drop-shadow(0px 1px 2px rgba(0, 0, 0, 0.3));\n",
              "      fill: #FFFFFF;\n",
              "    }\n",
              "  </style>\n",
              "\n",
              "      <script>\n",
              "        const buttonEl =\n",
              "          document.querySelector('#df-10992f8e-4fa9-40fd-b4b9-3a15f0268793 button.colab-df-convert');\n",
              "        buttonEl.style.display =\n",
              "          google.colab.kernel.accessAllowed ? 'block' : 'none';\n",
              "\n",
              "        async function convertToInteractive(key) {\n",
              "          const element = document.querySelector('#df-10992f8e-4fa9-40fd-b4b9-3a15f0268793');\n",
              "          const dataTable =\n",
              "            await google.colab.kernel.invokeFunction('convertToInteractive',\n",
              "                                                     [key], {});\n",
              "          if (!dataTable) return;\n",
              "\n",
              "          const docLinkHtml = 'Like what you see? Visit the ' +\n",
              "            '<a target=\"_blank\" href=https://colab.research.google.com/notebooks/data_table.ipynb>data table notebook</a>'\n",
              "            + ' to learn more about interactive tables.';\n",
              "          element.innerHTML = '';\n",
              "          dataTable['output_type'] = 'display_data';\n",
              "          await google.colab.output.renderOutput(dataTable, element);\n",
              "          const docLink = document.createElement('div');\n",
              "          docLink.innerHTML = docLinkHtml;\n",
              "          element.appendChild(docLink);\n",
              "        }\n",
              "      </script>\n",
              "    </div>\n",
              "  </div>\n",
              "  "
            ]
          },
          "metadata": {},
          "execution_count": 24
        }
      ]
    },
    {
      "cell_type": "code",
      "source": [
        "#verificar nulos\n",
        "tecnologia.isnull().sum()"
      ],
      "metadata": {
        "colab": {
          "base_uri": "https://localhost:8080/"
        },
        "id": "GTszhQjzHx8f",
        "outputId": "e8bad96b-016b-454b-ebea-f92853ec6848"
      },
      "execution_count": null,
      "outputs": [
        {
          "output_type": "execute_result",
          "data": {
            "text/plain": [
              "Open            0\n",
              "High            0\n",
              "Low             0\n",
              "Close           0\n",
              "Adj Close       0\n",
              "Volume          0\n",
              "Date            0\n",
              "Daily Return    0\n",
              "dtype: int64"
            ]
          },
          "metadata": {},
          "execution_count": 23
        }
      ]
    },
    {
      "cell_type": "code",
      "source": [
        "# Calcula algunas estadísticas descriptivas básicas para el precio de cierre\n",
        "print('Media del precio de cierre: ', tecnologia['Close'].mean())\n",
        "print('Mediana del precio de cierre: ', tecnologia['Close'].median())\n",
        "print('Desviación estándar del precio de cierre: ', tecnologia['Close'].std())\n",
        "print('Mínimo del precio de cierre: ', tecnologia['Close'].min())\n",
        "print('Máximo del precio de cierre: ', tecnologia['Close'].max())"
      ],
      "metadata": {
        "id": "gQBD14qcjxk_"
      },
      "execution_count": null,
      "outputs": []
    },
    {
      "cell_type": "code",
      "source": [
        "# eliminar la primera fila porque tiene un valor nulo\n",
        "tecnologia = tecnologia.dropna().reset_index(drop=True)"
      ],
      "metadata": {
        "id": "KMzVBcRzHk5v"
      },
      "execution_count": null,
      "outputs": []
    },
    {
      "cell_type": "code",
      "source": [
        "# Guardar DataFrame en archivo CSV\n",
        "tecnologia.to_csv('tecnologia.csv', index=False)"
      ],
      "metadata": {
        "id": "L1MrXUoJGCFT"
      },
      "execution_count": null,
      "outputs": []
    },
    {
      "cell_type": "code",
      "source": [
        "# Descargar datos históricos del S&P 500 y de los sectores\n",
        "tickers = [\"SPY\", \"XLC\", \"XLY\", \"XLP\", \"XLE\", \"XLF\", \"XLV\", \"XLI\", \"XLK\", \"XLU\", \"XLB\"]\n",
        "data_sect = yf.download(tickers, start=\"2000-01-01\", end=\"2023-02-23\")"
      ],
      "metadata": {
        "colab": {
          "base_uri": "https://localhost:8080/"
        },
        "id": "VQdpUzNzWw0R",
        "outputId": "c35130a0-d905-47d7-efd4-0bb6b9da73d9"
      },
      "execution_count": null,
      "outputs": [
        {
          "output_type": "stream",
          "name": "stdout",
          "text": [
            "[*********************100%***********************]  11 of 11 completed\n"
          ]
        }
      ]
    },
    {
      "cell_type": "code",
      "source": [
        "# Calcular el promedio de cada columna y almacenarlo en un nuevo dataframe\n",
        "promedios_sec = pd.DataFrame(daily_returns.mean()).T\n"
      ],
      "metadata": {
        "id": "X0eATvCKixCY"
      },
      "execution_count": null,
      "outputs": []
    },
    {
      "cell_type": "code",
      "source": [
        "promedios_sec"
      ],
      "metadata": {
        "id": "00-xUb2kjfZX",
        "colab": {
          "base_uri": "https://localhost:8080/",
          "height": 112
        },
        "outputId": "1f8410ad-63b9-4832-f968-2c51ea633300"
      },
      "execution_count": null,
      "outputs": [
        {
          "output_type": "execute_result",
          "data": {
            "text/plain": [
              "  Adj Close                                                              \\\n",
              "        SPY       XLB       XLC       XLE       XLF       XLI       XLK   \n",
              "0  0.000324  0.000402  0.000018  0.000472  0.000365  0.000381  0.000337   \n",
              "\n",
              "                                           \n",
              "        XLP       XLU       XLV       XLY  \n",
              "0  0.000341  0.000369  0.000375  0.000423  "
            ],
            "text/html": [
              "\n",
              "  <div id=\"df-28459810-ba93-4cf7-b8be-7fa467c59728\">\n",
              "    <div class=\"colab-df-container\">\n",
              "      <div>\n",
              "<style scoped>\n",
              "    .dataframe tbody tr th:only-of-type {\n",
              "        vertical-align: middle;\n",
              "    }\n",
              "\n",
              "    .dataframe tbody tr th {\n",
              "        vertical-align: top;\n",
              "    }\n",
              "\n",
              "    .dataframe thead tr th {\n",
              "        text-align: left;\n",
              "    }\n",
              "</style>\n",
              "<table border=\"1\" class=\"dataframe\">\n",
              "  <thead>\n",
              "    <tr>\n",
              "      <th></th>\n",
              "      <th colspan=\"11\" halign=\"left\">Adj Close</th>\n",
              "    </tr>\n",
              "    <tr>\n",
              "      <th></th>\n",
              "      <th>SPY</th>\n",
              "      <th>XLB</th>\n",
              "      <th>XLC</th>\n",
              "      <th>XLE</th>\n",
              "      <th>XLF</th>\n",
              "      <th>XLI</th>\n",
              "      <th>XLK</th>\n",
              "      <th>XLP</th>\n",
              "      <th>XLU</th>\n",
              "      <th>XLV</th>\n",
              "      <th>XLY</th>\n",
              "    </tr>\n",
              "  </thead>\n",
              "  <tbody>\n",
              "    <tr>\n",
              "      <th>0</th>\n",
              "      <td>0.000324</td>\n",
              "      <td>0.000402</td>\n",
              "      <td>0.000018</td>\n",
              "      <td>0.000472</td>\n",
              "      <td>0.000365</td>\n",
              "      <td>0.000381</td>\n",
              "      <td>0.000337</td>\n",
              "      <td>0.000341</td>\n",
              "      <td>0.000369</td>\n",
              "      <td>0.000375</td>\n",
              "      <td>0.000423</td>\n",
              "    </tr>\n",
              "  </tbody>\n",
              "</table>\n",
              "</div>\n",
              "      <button class=\"colab-df-convert\" onclick=\"convertToInteractive('df-28459810-ba93-4cf7-b8be-7fa467c59728')\"\n",
              "              title=\"Convert this dataframe to an interactive table.\"\n",
              "              style=\"display:none;\">\n",
              "        \n",
              "  <svg xmlns=\"http://www.w3.org/2000/svg\" height=\"24px\"viewBox=\"0 0 24 24\"\n",
              "       width=\"24px\">\n",
              "    <path d=\"M0 0h24v24H0V0z\" fill=\"none\"/>\n",
              "    <path d=\"M18.56 5.44l.94 2.06.94-2.06 2.06-.94-2.06-.94-.94-2.06-.94 2.06-2.06.94zm-11 1L8.5 8.5l.94-2.06 2.06-.94-2.06-.94L8.5 2.5l-.94 2.06-2.06.94zm10 10l.94 2.06.94-2.06 2.06-.94-2.06-.94-.94-2.06-.94 2.06-2.06.94z\"/><path d=\"M17.41 7.96l-1.37-1.37c-.4-.4-.92-.59-1.43-.59-.52 0-1.04.2-1.43.59L10.3 9.45l-7.72 7.72c-.78.78-.78 2.05 0 2.83L4 21.41c.39.39.9.59 1.41.59.51 0 1.02-.2 1.41-.59l7.78-7.78 2.81-2.81c.8-.78.8-2.07 0-2.86zM5.41 20L4 18.59l7.72-7.72 1.47 1.35L5.41 20z\"/>\n",
              "  </svg>\n",
              "      </button>\n",
              "      \n",
              "  <style>\n",
              "    .colab-df-container {\n",
              "      display:flex;\n",
              "      flex-wrap:wrap;\n",
              "      gap: 12px;\n",
              "    }\n",
              "\n",
              "    .colab-df-convert {\n",
              "      background-color: #E8F0FE;\n",
              "      border: none;\n",
              "      border-radius: 50%;\n",
              "      cursor: pointer;\n",
              "      display: none;\n",
              "      fill: #1967D2;\n",
              "      height: 32px;\n",
              "      padding: 0 0 0 0;\n",
              "      width: 32px;\n",
              "    }\n",
              "\n",
              "    .colab-df-convert:hover {\n",
              "      background-color: #E2EBFA;\n",
              "      box-shadow: 0px 1px 2px rgba(60, 64, 67, 0.3), 0px 1px 3px 1px rgba(60, 64, 67, 0.15);\n",
              "      fill: #174EA6;\n",
              "    }\n",
              "\n",
              "    [theme=dark] .colab-df-convert {\n",
              "      background-color: #3B4455;\n",
              "      fill: #D2E3FC;\n",
              "    }\n",
              "\n",
              "    [theme=dark] .colab-df-convert:hover {\n",
              "      background-color: #434B5C;\n",
              "      box-shadow: 0px 1px 3px 1px rgba(0, 0, 0, 0.15);\n",
              "      filter: drop-shadow(0px 1px 2px rgba(0, 0, 0, 0.3));\n",
              "      fill: #FFFFFF;\n",
              "    }\n",
              "  </style>\n",
              "\n",
              "      <script>\n",
              "        const buttonEl =\n",
              "          document.querySelector('#df-28459810-ba93-4cf7-b8be-7fa467c59728 button.colab-df-convert');\n",
              "        buttonEl.style.display =\n",
              "          google.colab.kernel.accessAllowed ? 'block' : 'none';\n",
              "\n",
              "        async function convertToInteractive(key) {\n",
              "          const element = document.querySelector('#df-28459810-ba93-4cf7-b8be-7fa467c59728');\n",
              "          const dataTable =\n",
              "            await google.colab.kernel.invokeFunction('convertToInteractive',\n",
              "                                                     [key], {});\n",
              "          if (!dataTable) return;\n",
              "\n",
              "          const docLinkHtml = 'Like what you see? Visit the ' +\n",
              "            '<a target=\"_blank\" href=https://colab.research.google.com/notebooks/data_table.ipynb>data table notebook</a>'\n",
              "            + ' to learn more about interactive tables.';\n",
              "          element.innerHTML = '';\n",
              "          dataTable['output_type'] = 'display_data';\n",
              "          await google.colab.output.renderOutput(dataTable, element);\n",
              "          const docLink = document.createElement('div');\n",
              "          docLink.innerHTML = docLinkHtml;\n",
              "          element.appendChild(docLink);\n",
              "        }\n",
              "      </script>\n",
              "    </div>\n",
              "  </div>\n",
              "  "
            ]
          },
          "metadata": {},
          "execution_count": 46
        }
      ]
    },
    {
      "cell_type": "code",
      "source": [
        "# Guardar DataFrame en archivo CSV\n",
        "promedios_df.to_csv('data_sect_mean.csv')"
      ],
      "metadata": {
        "id": "hJYT7VnhQC3c"
      },
      "execution_count": null,
      "outputs": []
    },
    {
      "cell_type": "code",
      "source": [
        "#descargar datos \n",
        "apple= yf.download(\"AAPL\",start=\"2000-01-01\")"
      ],
      "metadata": {
        "colab": {
          "base_uri": "https://localhost:8080/"
        },
        "id": "uqCrAVqOkUbt",
        "outputId": "95a268b8-ff31-4365-f6f7-17636d9f40ca"
      },
      "execution_count": null,
      "outputs": [
        {
          "output_type": "stream",
          "name": "stdout",
          "text": [
            "\r[*********************100%***********************]  1 of 1 completed\n"
          ]
        }
      ]
    },
    {
      "cell_type": "code",
      "source": [
        "# Convertir a un dataframe de pandas\n",
        "apple = pd.DataFrame(apple)"
      ],
      "metadata": {
        "id": "DyB1Hz9JkfKo"
      },
      "execution_count": null,
      "outputs": []
    },
    {
      "cell_type": "code",
      "source": [
        "# Guardar DataFrame en archivo CSV\n",
        "apple.to_csv('apple.csv', index=False)"
      ],
      "metadata": {
        "id": "ajXFFVgHkgzh"
      },
      "execution_count": null,
      "outputs": []
    },
    {
      "cell_type": "code",
      "source": [
        "#descargar datos \n",
        "microsoft = yf.download(\"MSFT\",start=\"2000-01-01\")"
      ],
      "metadata": {
        "colab": {
          "base_uri": "https://localhost:8080/"
        },
        "id": "AP3LRtaSkbBL",
        "outputId": "73b0b44d-79db-4944-be4a-7be441c99673"
      },
      "execution_count": null,
      "outputs": [
        {
          "output_type": "stream",
          "name": "stdout",
          "text": [
            "\r[*********************100%***********************]  1 of 1 completed\n"
          ]
        }
      ]
    },
    {
      "cell_type": "code",
      "source": [
        "# Convertir a un dataframe de pandas\n",
        "microsoft = pd.DataFrame(microsoft)"
      ],
      "metadata": {
        "id": "ta2hgEPhlLnk"
      },
      "execution_count": null,
      "outputs": []
    },
    {
      "cell_type": "code",
      "source": [
        "# Guardar DataFrame en archivo CSV\n",
        "microsoft.to_csv('microsoft.csv', index=False)"
      ],
      "metadata": {
        "id": "Eb1r8hFzlMVE"
      },
      "execution_count": null,
      "outputs": []
    },
    {
      "cell_type": "code",
      "source": [
        "sp500.info()"
      ],
      "metadata": {
        "colab": {
          "base_uri": "https://localhost:8080/"
        },
        "id": "KLFbowcRVkeN",
        "outputId": "019abc5f-c8e0-48b7-ae8e-54535c965dc4"
      },
      "execution_count": null,
      "outputs": [
        {
          "output_type": "stream",
          "name": "stdout",
          "text": [
            "<class 'pandas.core.frame.DataFrame'>\n",
            "DatetimeIndex: 5822 entries, 2000-01-03 to 2023-02-22\n",
            "Data columns (total 7 columns):\n",
            " #   Column     Non-Null Count  Dtype  \n",
            "---  ------     --------------  -----  \n",
            " 0   Open       5822 non-null   float64\n",
            " 1   High       5822 non-null   float64\n",
            " 2   Low        5822 non-null   float64\n",
            " 3   Close      5822 non-null   float64\n",
            " 4   Adj Close  5822 non-null   float64\n",
            " 5   Volume     5822 non-null   int64  \n",
            " 6   Date       5822 non-null   object \n",
            "dtypes: float64(5), int64(1), object(1)\n",
            "memory usage: 363.9+ KB\n"
          ]
        }
      ]
    },
    {
      "cell_type": "code",
      "source": [
        "sp500.shape"
      ],
      "metadata": {
        "colab": {
          "base_uri": "https://localhost:8080/"
        },
        "id": "vtRiW7V-WyAB",
        "outputId": "95dab9b4-f3e2-4778-9993-5d4d3a03f43e"
      },
      "execution_count": null,
      "outputs": [
        {
          "output_type": "execute_result",
          "data": {
            "text/plain": [
              "(5822, 7)"
            ]
          },
          "metadata": {},
          "execution_count": 18
        }
      ]
    },
    {
      "cell_type": "code",
      "source": [
        "sp500.head(5)"
      ],
      "metadata": {
        "colab": {
          "base_uri": "https://localhost:8080/",
          "height": 237
        },
        "id": "5Kc0cwIThRqs",
        "outputId": "ed189d17-1192-4282-ef48-5bbd57992436"
      },
      "execution_count": null,
      "outputs": [
        {
          "output_type": "execute_result",
          "data": {
            "text/plain": [
              "                   Open         High          Low        Close    Adj Close  \\\n",
              "Date                                                                          \n",
              "2000-01-03  1469.250000  1478.000000  1438.359985  1455.219971  1455.219971   \n",
              "2000-01-04  1455.219971  1455.219971  1397.430054  1399.420044  1399.420044   \n",
              "2000-01-05  1399.420044  1413.270020  1377.680054  1402.109985  1402.109985   \n",
              "2000-01-06  1402.109985  1411.900024  1392.099976  1403.449951  1403.449951   \n",
              "2000-01-07  1403.449951  1441.469971  1400.729980  1441.469971  1441.469971   \n",
              "\n",
              "                Volume        Date  Daily Return  mean_returns_by_weekday  \n",
              "Date                                                                       \n",
              "2000-01-03   931800000  2000-01-03           NaN                      NaN  \n",
              "2000-01-04  1009000000  2000-01-04     -0.038345                      NaN  \n",
              "2000-01-05  1085500000  2000-01-05      0.001922                      NaN  \n",
              "2000-01-06  1092300000  2000-01-06      0.000956                      NaN  \n",
              "2000-01-07  1225200000  2000-01-07      0.027090                      NaN  "
            ],
            "text/html": [
              "\n",
              "  <div id=\"df-49ae2b99-c9c0-421f-a85b-bf80070777dd\">\n",
              "    <div class=\"colab-df-container\">\n",
              "      <div>\n",
              "<style scoped>\n",
              "    .dataframe tbody tr th:only-of-type {\n",
              "        vertical-align: middle;\n",
              "    }\n",
              "\n",
              "    .dataframe tbody tr th {\n",
              "        vertical-align: top;\n",
              "    }\n",
              "\n",
              "    .dataframe thead th {\n",
              "        text-align: right;\n",
              "    }\n",
              "</style>\n",
              "<table border=\"1\" class=\"dataframe\">\n",
              "  <thead>\n",
              "    <tr style=\"text-align: right;\">\n",
              "      <th></th>\n",
              "      <th>Open</th>\n",
              "      <th>High</th>\n",
              "      <th>Low</th>\n",
              "      <th>Close</th>\n",
              "      <th>Adj Close</th>\n",
              "      <th>Volume</th>\n",
              "      <th>Date</th>\n",
              "      <th>Daily Return</th>\n",
              "      <th>mean_returns_by_weekday</th>\n",
              "    </tr>\n",
              "    <tr>\n",
              "      <th>Date</th>\n",
              "      <th></th>\n",
              "      <th></th>\n",
              "      <th></th>\n",
              "      <th></th>\n",
              "      <th></th>\n",
              "      <th></th>\n",
              "      <th></th>\n",
              "      <th></th>\n",
              "      <th></th>\n",
              "    </tr>\n",
              "  </thead>\n",
              "  <tbody>\n",
              "    <tr>\n",
              "      <th>2000-01-03</th>\n",
              "      <td>1469.250000</td>\n",
              "      <td>1478.000000</td>\n",
              "      <td>1438.359985</td>\n",
              "      <td>1455.219971</td>\n",
              "      <td>1455.219971</td>\n",
              "      <td>931800000</td>\n",
              "      <td>2000-01-03</td>\n",
              "      <td>NaN</td>\n",
              "      <td>NaN</td>\n",
              "    </tr>\n",
              "    <tr>\n",
              "      <th>2000-01-04</th>\n",
              "      <td>1455.219971</td>\n",
              "      <td>1455.219971</td>\n",
              "      <td>1397.430054</td>\n",
              "      <td>1399.420044</td>\n",
              "      <td>1399.420044</td>\n",
              "      <td>1009000000</td>\n",
              "      <td>2000-01-04</td>\n",
              "      <td>-0.038345</td>\n",
              "      <td>NaN</td>\n",
              "    </tr>\n",
              "    <tr>\n",
              "      <th>2000-01-05</th>\n",
              "      <td>1399.420044</td>\n",
              "      <td>1413.270020</td>\n",
              "      <td>1377.680054</td>\n",
              "      <td>1402.109985</td>\n",
              "      <td>1402.109985</td>\n",
              "      <td>1085500000</td>\n",
              "      <td>2000-01-05</td>\n",
              "      <td>0.001922</td>\n",
              "      <td>NaN</td>\n",
              "    </tr>\n",
              "    <tr>\n",
              "      <th>2000-01-06</th>\n",
              "      <td>1402.109985</td>\n",
              "      <td>1411.900024</td>\n",
              "      <td>1392.099976</td>\n",
              "      <td>1403.449951</td>\n",
              "      <td>1403.449951</td>\n",
              "      <td>1092300000</td>\n",
              "      <td>2000-01-06</td>\n",
              "      <td>0.000956</td>\n",
              "      <td>NaN</td>\n",
              "    </tr>\n",
              "    <tr>\n",
              "      <th>2000-01-07</th>\n",
              "      <td>1403.449951</td>\n",
              "      <td>1441.469971</td>\n",
              "      <td>1400.729980</td>\n",
              "      <td>1441.469971</td>\n",
              "      <td>1441.469971</td>\n",
              "      <td>1225200000</td>\n",
              "      <td>2000-01-07</td>\n",
              "      <td>0.027090</td>\n",
              "      <td>NaN</td>\n",
              "    </tr>\n",
              "  </tbody>\n",
              "</table>\n",
              "</div>\n",
              "      <button class=\"colab-df-convert\" onclick=\"convertToInteractive('df-49ae2b99-c9c0-421f-a85b-bf80070777dd')\"\n",
              "              title=\"Convert this dataframe to an interactive table.\"\n",
              "              style=\"display:none;\">\n",
              "        \n",
              "  <svg xmlns=\"http://www.w3.org/2000/svg\" height=\"24px\"viewBox=\"0 0 24 24\"\n",
              "       width=\"24px\">\n",
              "    <path d=\"M0 0h24v24H0V0z\" fill=\"none\"/>\n",
              "    <path d=\"M18.56 5.44l.94 2.06.94-2.06 2.06-.94-2.06-.94-.94-2.06-.94 2.06-2.06.94zm-11 1L8.5 8.5l.94-2.06 2.06-.94-2.06-.94L8.5 2.5l-.94 2.06-2.06.94zm10 10l.94 2.06.94-2.06 2.06-.94-2.06-.94-.94-2.06-.94 2.06-2.06.94z\"/><path d=\"M17.41 7.96l-1.37-1.37c-.4-.4-.92-.59-1.43-.59-.52 0-1.04.2-1.43.59L10.3 9.45l-7.72 7.72c-.78.78-.78 2.05 0 2.83L4 21.41c.39.39.9.59 1.41.59.51 0 1.02-.2 1.41-.59l7.78-7.78 2.81-2.81c.8-.78.8-2.07 0-2.86zM5.41 20L4 18.59l7.72-7.72 1.47 1.35L5.41 20z\"/>\n",
              "  </svg>\n",
              "      </button>\n",
              "      \n",
              "  <style>\n",
              "    .colab-df-container {\n",
              "      display:flex;\n",
              "      flex-wrap:wrap;\n",
              "      gap: 12px;\n",
              "    }\n",
              "\n",
              "    .colab-df-convert {\n",
              "      background-color: #E8F0FE;\n",
              "      border: none;\n",
              "      border-radius: 50%;\n",
              "      cursor: pointer;\n",
              "      display: none;\n",
              "      fill: #1967D2;\n",
              "      height: 32px;\n",
              "      padding: 0 0 0 0;\n",
              "      width: 32px;\n",
              "    }\n",
              "\n",
              "    .colab-df-convert:hover {\n",
              "      background-color: #E2EBFA;\n",
              "      box-shadow: 0px 1px 2px rgba(60, 64, 67, 0.3), 0px 1px 3px 1px rgba(60, 64, 67, 0.15);\n",
              "      fill: #174EA6;\n",
              "    }\n",
              "\n",
              "    [theme=dark] .colab-df-convert {\n",
              "      background-color: #3B4455;\n",
              "      fill: #D2E3FC;\n",
              "    }\n",
              "\n",
              "    [theme=dark] .colab-df-convert:hover {\n",
              "      background-color: #434B5C;\n",
              "      box-shadow: 0px 1px 3px 1px rgba(0, 0, 0, 0.15);\n",
              "      filter: drop-shadow(0px 1px 2px rgba(0, 0, 0, 0.3));\n",
              "      fill: #FFFFFF;\n",
              "    }\n",
              "  </style>\n",
              "\n",
              "      <script>\n",
              "        const buttonEl =\n",
              "          document.querySelector('#df-49ae2b99-c9c0-421f-a85b-bf80070777dd button.colab-df-convert');\n",
              "        buttonEl.style.display =\n",
              "          google.colab.kernel.accessAllowed ? 'block' : 'none';\n",
              "\n",
              "        async function convertToInteractive(key) {\n",
              "          const element = document.querySelector('#df-49ae2b99-c9c0-421f-a85b-bf80070777dd');\n",
              "          const dataTable =\n",
              "            await google.colab.kernel.invokeFunction('convertToInteractive',\n",
              "                                                     [key], {});\n",
              "          if (!dataTable) return;\n",
              "\n",
              "          const docLinkHtml = 'Like what you see? Visit the ' +\n",
              "            '<a target=\"_blank\" href=https://colab.research.google.com/notebooks/data_table.ipynb>data table notebook</a>'\n",
              "            + ' to learn more about interactive tables.';\n",
              "          element.innerHTML = '';\n",
              "          dataTable['output_type'] = 'display_data';\n",
              "          await google.colab.output.renderOutput(dataTable, element);\n",
              "          const docLink = document.createElement('div');\n",
              "          docLink.innerHTML = docLinkHtml;\n",
              "          element.appendChild(docLink);\n",
              "        }\n",
              "      </script>\n",
              "    </div>\n",
              "  </div>\n",
              "  "
            ]
          },
          "metadata": {},
          "execution_count": 17
        }
      ]
    },
    {
      "cell_type": "code",
      "source": [
        "#crear columna date\n",
        "sp500['Date'] = sp500.index.date"
      ],
      "metadata": {
        "id": "PlWzbtW2iXY6",
        "colab": {
          "base_uri": "https://localhost:8080/",
          "height": 166
        },
        "outputId": "b72ff1e8-0c41-4fcf-c71f-d1044b55d69e"
      },
      "execution_count": null,
      "outputs": [
        {
          "output_type": "error",
          "ename": "AttributeError",
          "evalue": "ignored",
          "traceback": [
            "\u001b[0;31m---------------------------------------------------------------------------\u001b[0m",
            "\u001b[0;31mAttributeError\u001b[0m                            Traceback (most recent call last)",
            "\u001b[0;32m<ipython-input-15-0d04f195bba1>\u001b[0m in \u001b[0;36m<module>\u001b[0;34m\u001b[0m\n\u001b[0;32m----> 1\u001b[0;31m \u001b[0msp500\u001b[0m\u001b[0;34m[\u001b[0m\u001b[0;34m'Date'\u001b[0m\u001b[0;34m]\u001b[0m \u001b[0;34m=\u001b[0m \u001b[0msp500\u001b[0m\u001b[0;34m.\u001b[0m\u001b[0mindex\u001b[0m\u001b[0;34m.\u001b[0m\u001b[0mdate\u001b[0m\u001b[0;34m\u001b[0m\u001b[0;34m\u001b[0m\u001b[0m\n\u001b[0m",
            "\u001b[0;31mAttributeError\u001b[0m: 'Index' object has no attribute 'date'"
          ]
        }
      ]
    },
    {
      "cell_type": "code",
      "source": [
        "# Calcula algunas estadísticas descriptivas básicas para el precio de cierre\n",
        "print('Media del precio de cierre: ', sp500['Close'].mean())\n",
        "print('Mediana del precio de cierre: ', sp500['Close'].median())\n",
        "print('Desviación estándar del precio de cierre: ', sp500['Close'].std())\n",
        "print('Mínimo del precio de cierre: ', sp500['Close'].min())\n",
        "print('Máximo del precio de cierre: ', sp500['Close'].max())\n"
      ],
      "metadata": {
        "id": "Er2hrvFsJqtM",
        "colab": {
          "base_uri": "https://localhost:8080/"
        },
        "outputId": "86bf70b4-1015-4764-93c5-4de68793dafa"
      },
      "execution_count": null,
      "outputs": [
        {
          "output_type": "stream",
          "name": "stdout",
          "text": [
            "Media del precio de cierre:  1886.7059496739032\n",
            "Mediana del precio de cierre:  1434.4299926757812\n",
            "Desviación estándar del precio de cierre:  976.8941314299967\n",
            "Mínimo del precio de cierre:  676.530029296875\n",
            "Máximo del precio de cierre:  4796.56005859375\n"
          ]
        }
      ]
    },
    {
      "cell_type": "code",
      "source": [
        "# Calcula las estadísticas descriptivas por trimestre\n",
        "quarterly_df = sp500.resample('Q').agg({'Close': ['mean', 'median', 'std', 'min', 'max']})\n",
        "print(quarterly_df)"
      ],
      "metadata": {
        "colab": {
          "base_uri": "https://localhost:8080/"
        },
        "id": "aDTGv2nFeivq",
        "outputId": "1c1059c0-ede8-47bd-b56e-31df8e6a8f49"
      },
      "execution_count": null,
      "outputs": [
        {
          "output_type": "stream",
          "name": "stdout",
          "text": [
            "                                 Close                                        \\\n",
            "                                  mean       median         std          min   \n",
            "Date                                                                           \n",
            "2000-03-31 00:00:00-05:00  1420.001426  1409.170044   49.201906  1333.359985   \n",
            "2000-06-30 00:00:00-04:00  1446.593649  1452.180054   35.035162  1356.560059   \n",
            "2000-09-30 00:00:00-04:00  1475.978888  1480.189941   25.899626  1419.890015   \n",
            "2000-12-31 00:00:00-05:00  1366.310312  1365.979980   41.661091  1264.739990   \n",
            "2001-03-31 00:00:00-05:00  1273.329039  1297.104980   77.063497  1117.579956   \n",
            "...                                ...          ...         ...          ...   \n",
            "2022-03-31 00:00:00-04:00  4463.855477  4467.094971  155.202788  4170.700195   \n",
            "2022-06-30 00:00:00-04:00  4105.667102  4112.155029  247.992243  3666.770020   \n",
            "2022-09-30 00:00:00-04:00  3980.351112  3964.234985  178.079946  3585.620117   \n",
            "2022-12-31 00:00:00-05:00  3851.973501  3849.280029  131.431099  3577.030029   \n",
            "2023-03-31 00:00:00-04:00  4022.639725  4017.770020  100.070068  3808.100098   \n",
            "\n",
            "                                        \n",
            "                                   max  \n",
            "Date                                    \n",
            "2000-03-31 00:00:00-05:00  1527.459961  \n",
            "2000-06-30 00:00:00-04:00  1516.349976  \n",
            "2000-09-30 00:00:00-04:00  1520.770020  \n",
            "2000-12-31 00:00:00-05:00  1436.280029  \n",
            "2001-03-31 00:00:00-05:00  1373.729980  \n",
            "...                                ...  \n",
            "2022-03-31 00:00:00-04:00  4796.560059  \n",
            "2022-06-30 00:00:00-04:00  4582.640137  \n",
            "2022-09-30 00:00:00-04:00  4305.200195  \n",
            "2022-12-31 00:00:00-05:00  4080.110107  \n",
            "2023-03-31 00:00:00-04:00  4179.759766  \n",
            "\n",
            "[93 rows x 5 columns]\n"
          ]
        }
      ]
    },
    {
      "cell_type": "code",
      "source": [
        "# Calcular la tasa de retorno diaria del índice\n",
        "daily_returns = sp500['Adj Close'].pct_change()\n",
        "\n",
        "# Calcular la volatilidad anualizada del índice\n",
        "volatility = daily_returns.std() * np.sqrt(252)\n",
        "\n",
        "# Calcular la tasa de crecimiento anual compuesta del índice\n",
        "start_price = sp500.iloc[0]['Adj Close']\n",
        "end_price = sp500.iloc[-1]['Adj Close']\n",
        "num_years = (sp500.index[-1] - sp500.index[0]).days / 365.25\n",
        "CAGR = ((end_price/start_price)**(1/num_years)) - 1\n",
        "\n",
        "print(\"Volatilidad anualizada del índice SP500: \", volatility)\n",
        "print(\"Tasa de crecimiento anual compuesta del índice SP500: \", CAGR)"
      ],
      "metadata": {
        "colab": {
          "base_uri": "https://localhost:8080/"
        },
        "id": "C730K1eEspmR",
        "outputId": "eed2b2ad-f54f-487e-da09-fb7ae60788a9"
      },
      "execution_count": null,
      "outputs": [
        {
          "output_type": "stream",
          "name": "stdout",
          "text": [
            "Volatilidad anualizada del índice SP500:  0.1983675517809763\n",
            "Tasa de crecimiento anual compuesta del índice SP500:  0.044568912147632256\n"
          ]
        }
      ]
    },
    {
      "cell_type": "code",
      "source": [
        "#gráfico de líneas que muestre la evolución del precio de cierre del índice S&P 500 a lo largo del tiempo. Este tipo de gráfico es especialmente \n",
        "import matplotlib.pyplot as plt\n",
        "\n",
        "plt.plot(sp500['Date'], sp500['Close'])\n",
        "plt.xlabel('Fecha')\n",
        "plt.ylabel('Precio de cierre')\n",
        "plt.title('Evolución del precio de cierre del índice S&P 500')\n",
        "plt.show()\n"
      ],
      "metadata": {
        "colab": {
          "base_uri": "https://localhost:8080/",
          "height": 295
        },
        "id": "5u7Jz1_rhHiX",
        "outputId": "82e50b3f-4047-45e0-f84e-92a65dc75f5e"
      },
      "execution_count": null,
      "outputs": [
        {
          "output_type": "display_data",
          "data": {
            "text/plain": [
              "<Figure size 432x288 with 1 Axes>"
            ],
            "image/png": "[encoded data removed]"
          },
          "metadata": {
            "needs_background": "light"
          }
        }
      ]
    },
    {
      "cell_type": "code",
      "source": [
        "#Gráfico de barras: puedes crear un gráfico de barras que muestre el rendimiento diario del índice S&P 500. Este tipo de gráfico es útil para examinar la variación diaria del mercado.\n",
        "import matplotlib.pyplot as plt\n",
        "\n",
        "plt.bar(df['Date'], df['Close'])\n",
        "plt.xlabel('Fecha')\n",
        "plt.ylabel('Precio de cierre')\n",
        "plt.title('Rendimiento diario del índice S&P 500')\n",
        "plt.show()\n",
        "\n"
      ],
      "metadata": {
        "colab": {
          "base_uri": "https://localhost:8080/",
          "height": 295
        },
        "id": "zZ2o1wWjhldf",
        "outputId": "b60bec2b-0f19-4310-bf4f-84813a2f522e"
      },
      "execution_count": null,
      "outputs": [
        {
          "output_type": "display_data",
          "data": {
            "text/plain": [
              "<Figure size 432x288 with 1 Axes>"
            ],
            "image/png": "[encoded data removed]"
          },
          "metadata": {
            "needs_background": "light"
          }
        }
      ]
    },
    {
      "cell_type": "code",
      "source": [
        "#Gráfico de dispersión: puedes crear un gráfico de dispersión que muestre la relación entre el precio de cierre y el volumen de negociación en un día determinado. Este tipo de gráfico es útil para examinar la relación entre dos variables y detectar patrones o tendencias.\n",
        "import matplotlib.pyplot as plt\n",
        "\n",
        "plt.scatter(df['Volume'], df['Close'])\n",
        "plt.xlabel('Volumen de negociación')\n",
        "plt.ylabel('Precio de cierre')\n",
        "plt.title('Relación entre el precio de cierre y el volumen de negociación')\n",
        "plt.show()\n"
      ],
      "metadata": {
        "colab": {
          "base_uri": "https://localhost:8080/",
          "height": 296
        },
        "id": "iQsMFr0Mhn6U",
        "outputId": "69328399-d1f7-4251-9cfa-a6729c2e05a2"
      },
      "execution_count": null,
      "outputs": [
        {
          "output_type": "display_data",
          "data": {
            "text/plain": [
              "<Figure size 432x288 with 1 Axes>"
            ],
            "image/png": "[encoded data removed]"
          },
          "metadata": {
            "needs_background": "light"
          }
        }
      ]
    },
    {
      "cell_type": "code",
      "source": [
        "#Heatmap: puedes crear un heatmap que muestre la correlación entre las diferentes empresas en el índice S&P 500. Este tipo de gráfico es útil para identificar patrones de relación entre las empresas y detectar agrupaciones o sectores específicos.\n",
        "import seaborn as sns\n",
        "\n",
        "corr = df.corr()\n",
        "sns.heatmap(corr, annot=True, cmap='coolwarm')\n",
        "plt.title('Correlación entre las empresas en el índice S&P 500')\n",
        "plt.show()\n"
      ],
      "metadata": {
        "colab": {
          "base_uri": "https://localhost:8080/",
          "height": 281
        },
        "id": "ewphkiEthqsy",
        "outputId": "301f298a-f6b9-43c6-928d-8bc53e0f13c2"
      },
      "execution_count": null,
      "outputs": [
        {
          "output_type": "display_data",
          "data": {
            "text/plain": [
              "<Figure size 432x288 with 2 Axes>"
            ],
            "image/png": "[encoded data removed]"
          },
          "metadata": {
            "needs_background": "light"
          }
        }
      ]
    },
    {
      "cell_type": "code",
      "source": [
        "# Calcular el rendimiento diario\n",
        "sp500['Daily Return'] = sp500['Adj Close'].pct_change()\n",
        "sp500['Daily Return'] = pd.to_numeric(sp500['Daily Return'], errors='coerce')\n",
        "sp500 = sp500.set_index('Date')\n",
        "\n",
        "\n",
        "# Agrupar los rendimientos por día de la semana y calcular el rendimiento promedio\n",
        "sp500['mean_returns_by_weekday'] = sp500.groupby(sp500.index.weekday)['Daily Return'].mean()\n",
        "\n"
      ],
      "metadata": {
        "colab": {
          "base_uri": "https://localhost:8080/",
          "height": 380
        },
        "id": "c1AKvTAaNGD6",
        "outputId": "c818ea3e-63ee-44d3-d18c-1362a2f593dd"
      },
      "execution_count": null,
      "outputs": [
        {
          "output_type": "error",
          "ename": "KeyError",
          "evalue": "ignored",
          "traceback": [
            "\u001b[0;31m---------------------------------------------------------------------------\u001b[0m",
            "\u001b[0;31mKeyError\u001b[0m                                  Traceback (most recent call last)",
            "\u001b[0;32m<ipython-input-12-f560c99ce3fa>\u001b[0m in \u001b[0;36m<module>\u001b[0;34m\u001b[0m\n\u001b[1;32m      2\u001b[0m \u001b[0msp500\u001b[0m\u001b[0;34m[\u001b[0m\u001b[0;34m'Daily Return'\u001b[0m\u001b[0;34m]\u001b[0m \u001b[0;34m=\u001b[0m \u001b[0msp500\u001b[0m\u001b[0;34m[\u001b[0m\u001b[0;34m'Adj Close'\u001b[0m\u001b[0;34m]\u001b[0m\u001b[0;34m.\u001b[0m\u001b[0mpct_change\u001b[0m\u001b[0;34m(\u001b[0m\u001b[0;34m)\u001b[0m\u001b[0;34m\u001b[0m\u001b[0;34m\u001b[0m\u001b[0m\n\u001b[1;32m      3\u001b[0m \u001b[0msp500\u001b[0m\u001b[0;34m[\u001b[0m\u001b[0;34m'Daily Return'\u001b[0m\u001b[0;34m]\u001b[0m \u001b[0;34m=\u001b[0m \u001b[0mpd\u001b[0m\u001b[0;34m.\u001b[0m\u001b[0mto_numeric\u001b[0m\u001b[0;34m(\u001b[0m\u001b[0msp500\u001b[0m\u001b[0;34m[\u001b[0m\u001b[0;34m'Daily Return'\u001b[0m\u001b[0;34m]\u001b[0m\u001b[0;34m,\u001b[0m \u001b[0merrors\u001b[0m\u001b[0;34m=\u001b[0m\u001b[0;34m'coerce'\u001b[0m\u001b[0;34m)\u001b[0m\u001b[0;34m\u001b[0m\u001b[0;34m\u001b[0m\u001b[0m\n\u001b[0;32m----> 4\u001b[0;31m \u001b[0msp500\u001b[0m \u001b[0;34m=\u001b[0m \u001b[0msp500\u001b[0m\u001b[0;34m.\u001b[0m\u001b[0mset_index\u001b[0m\u001b[0;34m(\u001b[0m\u001b[0;34m'Date'\u001b[0m\u001b[0;34m)\u001b[0m\u001b[0;34m\u001b[0m\u001b[0;34m\u001b[0m\u001b[0m\n\u001b[0m\u001b[1;32m      5\u001b[0m \u001b[0;34m\u001b[0m\u001b[0m\n\u001b[1;32m      6\u001b[0m \u001b[0;34m\u001b[0m\u001b[0m\n",
            "\u001b[0;32m/usr/local/lib/python3.8/dist-packages/pandas/util/_decorators.py\u001b[0m in \u001b[0;36mwrapper\u001b[0;34m(*args, **kwargs)\u001b[0m\n\u001b[1;32m    309\u001b[0m                     \u001b[0mstacklevel\u001b[0m\u001b[0;34m=\u001b[0m\u001b[0mstacklevel\u001b[0m\u001b[0;34m,\u001b[0m\u001b[0;34m\u001b[0m\u001b[0;34m\u001b[0m\u001b[0m\n\u001b[1;32m    310\u001b[0m                 )\n\u001b[0;32m--> 311\u001b[0;31m             \u001b[0;32mreturn\u001b[0m \u001b[0mfunc\u001b[0m\u001b[0;34m(\u001b[0m\u001b[0;34m*\u001b[0m\u001b[0margs\u001b[0m\u001b[0;34m,\u001b[0m \u001b[0;34m**\u001b[0m\u001b[0mkwargs\u001b[0m\u001b[0;34m)\u001b[0m\u001b[0;34m\u001b[0m\u001b[0;34m\u001b[0m\u001b[0m\n\u001b[0m\u001b[1;32m    312\u001b[0m \u001b[0;34m\u001b[0m\u001b[0m\n\u001b[1;32m    313\u001b[0m         \u001b[0;32mreturn\u001b[0m \u001b[0mwrapper\u001b[0m\u001b[0;34m\u001b[0m\u001b[0;34m\u001b[0m\u001b[0m\n",
            "\u001b[0;32m/usr/local/lib/python3.8/dist-packages/pandas/core/frame.py\u001b[0m in \u001b[0;36mset_index\u001b[0;34m(self, keys, drop, append, inplace, verify_integrity)\u001b[0m\n\u001b[1;32m   5449\u001b[0m \u001b[0;34m\u001b[0m\u001b[0m\n\u001b[1;32m   5450\u001b[0m         \u001b[0;32mif\u001b[0m \u001b[0mmissing\u001b[0m\u001b[0;34m:\u001b[0m\u001b[0;34m\u001b[0m\u001b[0;34m\u001b[0m\u001b[0m\n\u001b[0;32m-> 5451\u001b[0;31m             \u001b[0;32mraise\u001b[0m \u001b[0mKeyError\u001b[0m\u001b[0;34m(\u001b[0m\u001b[0;34mf\"None of {missing} are in the columns\"\u001b[0m\u001b[0;34m)\u001b[0m\u001b[0;34m\u001b[0m\u001b[0;34m\u001b[0m\u001b[0m\n\u001b[0m\u001b[1;32m   5452\u001b[0m \u001b[0;34m\u001b[0m\u001b[0m\n\u001b[1;32m   5453\u001b[0m         \u001b[0;32mif\u001b[0m \u001b[0minplace\u001b[0m\u001b[0;34m:\u001b[0m\u001b[0;34m\u001b[0m\u001b[0;34m\u001b[0m\u001b[0m\n",
            "\u001b[0;31mKeyError\u001b[0m: \"None of ['Date'] are in the columns\""
          ]
        }
      ]
    },
    {
      "cell_type": "code",
      "source": [
        "sp500['mean_returns_by_weekday'].isnull().sum()"
      ],
      "metadata": {
        "colab": {
          "base_uri": "https://localhost:8080/"
        },
        "id": "k5f4vWDO5BpU",
        "outputId": "f62f0ef2-cdf3-4e5b-a59d-38764cb771ec"
      },
      "execution_count": null,
      "outputs": [
        {
          "output_type": "execute_result",
          "data": {
            "text/plain": [
              "5823"
            ]
          },
          "metadata": {},
          "execution_count": 20
        }
      ]
    },
    {
      "cell_type": "code",
      "source": [],
      "metadata": {
        "id": "iCqeYnEqNVpU"
      },
      "execution_count": null,
      "outputs": []
    }
  ]
}